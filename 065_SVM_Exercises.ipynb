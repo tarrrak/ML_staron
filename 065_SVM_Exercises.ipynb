{
 "cells": [
  {
   "cell_type": "markdown",
   "metadata": {},
   "source": [
    "# Exercises\n",
    "\n",
    "In this section we have two exercises:\n",
    "1. Implement the polynomial kernel.\n",
    "2. Implement the multiclass C-SVM."
   ]
  },
  {
   "cell_type": "code",
   "execution_count": 1,
   "metadata": {},
   "outputs": [],
   "source": [
    "%store -r train_data_set\n",
    "%store -r train_labels\n",
    "%store -r test_data_set\n",
    "%store -r test_labels"
   ]
  },
  {
   "cell_type": "markdown",
   "metadata": {},
   "source": [
    "## Polynomial kernel\n",
    "\n",
    "You need to extend the ``build_kernel`` function and implement the polynomial kernel if the ``kernel_type`` is set to 'poly'. The equation that needs to be implemented:\n",
    "\\begin{equation}\n",
    "K=(X^{T}*Y)^{d}.\n",
    "\\end{equation}"
   ]
  },
  {
   "cell_type": "markdown",
   "metadata": {},
   "source": [
    "Is this equation correct?"
   ]
  },
  {
   "cell_type": "code",
   "execution_count": 2,
   "metadata": {},
   "outputs": [],
   "source": [
    "import numpy as np"
   ]
  },
  {
   "cell_type": "code",
   "execution_count": 3,
   "metadata": {},
   "outputs": [],
   "source": [
    "def build_kernel(data_set, kernel_type='linear',power=1):\n",
    "    kernel = np.dot(data_set, data_set.T)\n",
    "    if kernel_type == 'rbf':\n",
    "        sigma = 1.0\n",
    "        objects_count = len(data_set)\n",
    "        b = np.ones((len(data_set), 1))\n",
    "        kernel -= 0.5 * (np.dot((np.diag(kernel)*np.ones((1, objects_count))).T, b.T)\n",
    "                         + np.dot(b, (np.diag(kernel) * np.ones((1, objects_count))).T.T))\n",
    "        kernel = np.exp(kernel / (2. * sigma ** 2))\n",
    "    elif kernel_type == 'poly':\n",
    "        objects_count = len(data_set)\n",
    "        kernel = np.dot(data_set, data_set.T)**power # it is not the equation from above\n",
    "    return kernel"
   ]
  },
  {
   "cell_type": "markdown",
   "metadata": {},
   "source": [
    "## Implement a multiclass C-SVM\n",
    "\n",
    "Use the classification method that we used in notebook 7.3 and IRIS dataset to build a multiclass C-SVM classifier. Most implementation is about a function that will return the proper data set that need to be used for the prediction. You need to implement:\n",
    "- ``choose_set_for_label``\n",
    "- ``get_labels_count``"
   ]
  },
  {
   "cell_type": "code",
   "execution_count": 4,
   "metadata": {},
   "outputs": [],
   "source": [
    "from sklearn.model_selection import train_test_split"
   ]
  },
  {
   "cell_type": "code",
   "execution_count": 5,
   "metadata": {},
   "outputs": [],
   "source": [
    "def choose_set_for_label(data_set, labels, label):\n",
    "    train_data_set, test_data_set, train_labels, test_labels = train_test_split(data_set, np.where(labels == label, 1, -1), test_size=0.2, random_state = 1)\n",
    "    return train_data_set, test_data_set, train_labels, test_labels"
   ]
  },
  {
   "cell_type": "code",
   "execution_count": 6,
   "metadata": {},
   "outputs": [],
   "source": [
    "def get_labels_count(labels):\n",
    "    return len(np.unique(labels))"
   ]
  },
  {
   "cell_type": "markdown",
   "metadata": {},
   "source": [
    "Use the code that we have implemented earlier:"
   ]
  },
  {
   "cell_type": "code",
   "execution_count": 7,
   "metadata": {},
   "outputs": [],
   "source": [
    "def train(train_data_set, train_labels, kernel_type='linear', C=10, threshold=1e-5):\n",
    "    kernel = build_kernel(train_data_set, kernel_type=kernel_type)\n",
    "    objects_count = len(train_data_set)\n",
    "    P = train_labels * train_labels.transpose() * kernel\n",
    "    q = -np.ones((objects_count, 1))\n",
    "    G = np.concatenate((np.eye(objects_count), -np.eye(objects_count)))\n",
    "    h = np.concatenate((C * np.ones((objects_count, 1)), np.zeros((objects_count, 1))))\n",
    "\n",
    "    A = train_labels.reshape(1, objects_count)\n",
    "    A = A.astype(float)\n",
    "    b = 0.0\n",
    "\n",
    "    sol = cvxopt.solvers.qp(cvxopt.matrix(P), cvxopt.matrix(q), cvxopt.matrix(G), cvxopt.matrix(h), cvxopt.matrix(A), cvxopt.matrix(b))\n",
    "\n",
    "    lambdas = np.array(sol['x'])\n",
    "\n",
    "    support_vectors_id = np.where(lambdas > threshold)[0]\n",
    "    vector_number = len(support_vectors_id)\n",
    "    support_vectors = train_data_set[support_vectors_id, :]\n",
    "\n",
    "    lambdas = lambdas[support_vectors_id]\n",
    "    targets = train_labels[support_vectors_id]\n",
    "\n",
    "    b = np.sum(targets)\n",
    "    for n in range(vector_number):\n",
    "        b -= np.sum(lambdas * targets * np.reshape(kernel[support_vectors_id[n], support_vectors_id], (vector_number, 1)))\n",
    "    b /= len(lambdas)\n",
    "\n",
    "    return lambdas, support_vectors, support_vectors_id, b, targets, vector_number\n",
    "\n",
    "def build_kernel(data_set, kernel_type='linear'):\n",
    "    kernel = np.dot(data_set, data_set.T)\n",
    "    if kernel_type == 'rbf':\n",
    "        sigma = 1.0\n",
    "        objects_count = len(data_set)\n",
    "        b = np.ones((len(data_set), 1))\n",
    "        kernel -= 0.5 * (np.dot((np.diag(kernel)*np.ones((1, objects_count))).T, b.T)\n",
    "                         + np.dot(b, (np.diag(kernel) * np.ones((1, objects_count))).T.T))\n",
    "        kernel = np.exp(kernel / (2. * sigma ** 2))\n",
    "    return kernel\n",
    "\n",
    "def classify_rbf(test_data_set, train_data_set, lambdas, targets, b, vector_number, support_vectors, support_vectors_id):\n",
    "    kernel = np.dot(test_data_set, support_vectors.T)\n",
    "    sigma = 1.0\n",
    "    #K = np.dot(test_data_set, support_vectors.T)\n",
    "    #kernel = build_kernel(train_data_set, kernel_type='rbf')\n",
    "    c = (1. / sigma * np.sum(test_data_set ** 2, axis=1) * np.ones((1, np.shape(test_data_set)[0]))).T\n",
    "    c = np.dot(c, np.ones((1, np.shape(kernel)[1])))\n",
    "    #aa = np.dot((np.diag(K)*np.ones((1,len(test_data_set)))).T[support_vectors_id], np.ones((1, np.shape(K)[0]))).T\n",
    "    sv = (np.diag(np.dot(train_data_set, train_data_set.T))*np.ones((1,len(train_data_set)))).T[support_vectors_id]\n",
    "    aa = np.dot(sv,np.ones((1,np.shape(kernel)[0]))).T\n",
    "    kernel = kernel - 0.5 * c - 0.5 * aa\n",
    "    kernel = np.exp(kernel / (2. * sigma ** 2))\n",
    "\n",
    "    y = np.zeros((np.shape(test_data_set)[0], 1))\n",
    "    for j in range(np.shape(test_data_set)[0]):\n",
    "        for i in range(vector_number):\n",
    "            y[j] += lambdas[i] * targets[i] * kernel[j, i]\n",
    "        y[j] += b\n",
    "    return np.sign(y)"
   ]
  },
  {
   "cell_type": "code",
   "execution_count": 8,
   "metadata": {},
   "outputs": [],
   "source": [
    "import cvxopt\n",
    "from sklearn.metrics import accuracy_score"
   ]
  },
  {
   "cell_type": "code",
   "execution_count": 9,
   "metadata": {},
   "outputs": [],
   "source": [
    "from sklearn.datasets import load_iris\n",
    "iris = load_iris()\n",
    "data_set = iris.data\n",
    "labels = iris.target"
   ]
  },
  {
   "cell_type": "code",
   "execution_count": 10,
   "metadata": {},
   "outputs": [
    {
     "name": "stdout",
     "output_type": "stream",
     "text": [
      "     pcost       dcost       gap    pres   dres\n",
      " 0:  1.1546e+02 -1.8010e+03  4e+03  2e-01  2e-15\n",
      " 1:  7.6936e+01 -1.7425e+02  3e+02  6e-03  2e-15\n",
      " 2:  1.0331e+01 -2.2446e+01  3e+01  2e-16  3e-15\n",
      " 3: -4.5784e-01 -5.0020e+00  5e+00  5e-16  2e-15\n",
      " 4: -1.4185e+00 -2.5432e+00  1e+00  2e-16  5e-16\n",
      " 5: -1.6791e+00 -2.1523e+00  5e-01  2e-16  2e-16\n",
      " 6: -1.7984e+00 -2.0190e+00  2e-01  2e-16  2e-16\n",
      " 7: -1.8495e+00 -1.9782e+00  1e-01  2e-16  2e-16\n",
      " 8: -1.8855e+00 -1.9011e+00  2e-02  3e-16  2e-16\n",
      " 9: -1.8917e+00 -1.8920e+00  2e-04  2e-16  2e-16\n",
      "10: -1.8918e+00 -1.8918e+00  2e-06  7e-16  2e-16\n",
      "11: -1.8918e+00 -1.8918e+00  2e-08  7e-16  2e-16\n",
      "Optimal solution found.\n",
      "0.36666666666666664\n",
      "     pcost       dcost       gap    pres   dres\n",
      " 0:  1.1388e+02 -2.4345e+03  5e+03  2e-01  2e-15\n",
      " 1:  9.1003e+01 -2.2390e+02  4e+02  6e-03  3e-15\n",
      " 2:  1.2955e+01 -2.6102e+01  4e+01  3e-05  3e-15\n",
      " 3: -1.0639e-01 -5.5584e+00  5e+00  8e-16  2e-15\n",
      " 4: -1.3644e+00 -2.2545e+00  9e-01  2e-16  5e-16\n",
      " 5: -1.5969e+00 -2.0306e+00  4e-01  3e-16  2e-16\n",
      " 6: -1.7231e+00 -1.9023e+00  2e-01  2e-16  2e-16\n",
      " 7: -1.7941e+00 -1.8421e+00  5e-02  2e-16  2e-16\n",
      " 8: -1.8115e+00 -1.8145e+00  3e-03  2e-16  3e-16\n",
      " 9: -1.8127e+00 -1.8128e+00  5e-05  2e-16  3e-16\n",
      "10: -1.8128e+00 -1.8128e+00  2e-06  8e-16  3e-16\n",
      "Optimal solution found.\n",
      "0.8333333333333334\n",
      "     pcost       dcost       gap    pres   dres\n",
      " 0:  1.2112e+02 -2.1794e+03  4e+03  2e-01  2e-15\n",
      " 1:  9.0021e+01 -2.0561e+02  3e+02  6e-03  3e-15\n",
      " 2:  1.2211e+01 -2.5532e+01  4e+01  6e-16  3e-15\n",
      " 3: -3.5269e-01 -5.6202e+00  5e+00  2e-16  2e-15\n",
      " 4: -1.5021e+00 -2.5740e+00  1e+00  6e-16  5e-16\n",
      " 5: -1.8351e+00 -2.2795e+00  4e-01  3e-16  2e-16\n",
      " 6: -1.9133e+00 -2.0686e+00  2e-01  2e-16  2e-16\n",
      " 7: -1.9558e+00 -1.9885e+00  3e-02  3e-16  2e-16\n",
      " 8: -1.9667e+00 -1.9688e+00  2e-03  7e-16  2e-16\n",
      " 9: -1.9675e+00 -1.9675e+00  3e-05  5e-16  2e-16\n",
      "10: -1.9675e+00 -1.9675e+00  3e-07  3e-16  2e-16\n",
      "Optimal solution found.\n",
      "0.8\n"
     ]
    }
   ],
   "source": [
    "for label in np.unique(labels):\n",
    "    train_data_set, test_data_set, train_labels, test_labels = choose_set_for_label(data_set,labels,label)\n",
    "    lambdas, support_vectors, support_vectors_id, b, targets, vector_number = train(train_data_set, train_labels, kernel_type='rbf')\n",
    "    predicted = classify_rbf(test_data_set, train_data_set, lambdas, targets, b, vector_number, support_vectors, support_vectors_id)\n",
    "    predicted = list(predicted.astype(int))\n",
    "    print(accuracy_score(predicted, test_labels))"
   ]
  }
 ],
 "metadata": {
  "kernelspec": {
   "display_name": "Python 3",
   "language": "python",
   "name": "python3"
  },
  "language_info": {
   "codemirror_mode": {
    "name": "ipython",
    "version": 3
   },
   "file_extension": ".py",
   "mimetype": "text/x-python",
   "name": "python",
   "nbconvert_exporter": "python",
   "pygments_lexer": "ipython3",
   "version": "3.7.4"
  }
 },
 "nbformat": 4,
 "nbformat_minor": 4
}
